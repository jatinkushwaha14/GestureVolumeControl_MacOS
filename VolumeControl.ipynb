{
 "cells": [
  {
   "cell_type": "code",
   "execution_count": 1,
   "metadata": {},
   "outputs": [],
   "source": [
    "import os\n",
    "import cv2 as cv\n",
    "import mediapipe as mp\n",
    "import time\n",
    "import math\n",
    "import numpy as np"
   ]
  },
  {
   "cell_type": "code",
   "execution_count": 34,
   "metadata": {},
   "outputs": [
    {
     "name": "stderr",
     "output_type": "stream",
     "text": [
      "I0000 00:00:1718691527.287921 1610065 gl_context.cc:357] GL version: 2.1 (2.1 Metal - 88.1), renderer: Apple M1\n",
      "W0000 00:00:1718691527.301261 1644816 inference_feedback_manager.cc:114] Feedback manager requires a model with a single signature inference. Disabling support for feedback tensors.\n",
      "W0000 00:00:1718691527.306493 1644816 inference_feedback_manager.cc:114] Feedback manager requires a model with a single signature inference. Disabling support for feedback tensors.\n"
     ]
    }
   ],
   "source": [
    "cap = cv.VideoCapture(0)\n",
    "mp_hands = mp.solutions.hands\n",
    "mp_draw = mp.solutions.drawing_utils\n",
    "hands = mp_hands.Hands()\n",
    "result = os.popen(\"osascript -e 'output volume of (get volume settings)'\").read()\n",
    "t0=0\n",
    "temp_vol=int(result.strip())\n",
    "temp_coord=int(np.interp(temp_vol, [0, 100], [102, 448]))\n",
    "while True:\n",
    "    success, img = cap.read()\n",
    "    img=cv.flip(img,1)\n",
    "    if not success: \n",
    "        break\n",
    "    imgRGB=cv.cvtColor(img, cv.COLOR_BGR2RGB)\n",
    "    results = hands.process(imgRGB)\n",
    "    vol=temp_vol\n",
    "    coord=temp_coord\n",
    "    if results.multi_hand_landmarks:\n",
    "        for hand_landmarks in results.multi_hand_landmarks:\n",
    "            h, w, c = img.shape\n",
    "            x1, y1 = (int(hand_landmarks.landmark[4].x*w), int(hand_landmarks.landmark[4].y*h))\n",
    "            x2, y2 = (int(hand_landmarks.landmark[8].x*w), int(hand_landmarks.landmark[8].y*h))\n",
    "            dist=math.hypot(x2 - x1, y2 - y1)\n",
    "            temp_vol=np.interp(dist, [50, 350], [0, 100])\n",
    "            vol=temp_vol\n",
    "            os.system(f\"osascript -e 'set volume output volume {temp_vol}'\")\n",
    "            cv.circle(img, (x1, y1), 5, (0, 255, 0), cv.FILLED)\n",
    "            cv.circle(img, (x2, y2), 5, (0, 255, 0), cv.FILLED)\n",
    "            cv.line(img, (x1, y1), (x2, y2), (255, 255, 255), 2)\n",
    "            temp_coord=np.interp(vol, [0, 100], [102, 448])\n",
    "            coord=temp_coord\n",
    "    cv.putText(img,f\"Volume level = {int(vol)} %\", (100, 150), cv.FONT_HERSHEY_TRIPLEX, 1,(255, 200, 200),2) \n",
    "    cv.rectangle(img, (102, 177), (int(coord), 198), (255, 255, 255), -1)\n",
    "    cv.rectangle(img, (100, 175), (450, 200), (0, 0, 255), 2) \n",
    "    t1=time.time()\n",
    "    fps = 1/(t1 - t0)\n",
    "    t0=t1\n",
    "    cv.putText(img, str(int(fps))+ \"fps\", (100, 100), cv.FONT_HERSHEY_PLAIN, 3,(255, 0, 0),3)\n",
    "    cv.imshow(\"Image\", img)\n",
    "    if cv.waitKey(1) & 0xFF == ord('q'):\n",
    "        break\n",
    "cap.release()\n",
    "cv.destroyAllWindows()\n"
   ]
  },
  {
   "cell_type": "code",
   "execution_count": null,
   "metadata": {},
   "outputs": [],
   "source": []
  }
 ],
 "metadata": {
  "kernelspec": {
   "display_name": "Python 3",
   "language": "python",
   "name": "python3"
  },
  "language_info": {
   "codemirror_mode": {
    "name": "ipython",
    "version": 3
   },
   "file_extension": ".py",
   "mimetype": "text/x-python",
   "name": "python",
   "nbconvert_exporter": "python",
   "pygments_lexer": "ipython3",
   "version": "3.11.5"
  }
 },
 "nbformat": 4,
 "nbformat_minor": 2
}
